{
  "cells": [
    {
      "cell_type": "markdown",
      "metadata": {
        "id": "3ktirBbAH8HH"
      },
      "source": [
        "A simple notebook to start modelling in [Essence](https://link.springer.com/article/10.1007/s10601-008-9047-y) right away\n",
        "\n",
        "By Christopher Stone, University of St Andrews - AIRG\n",
        "\n",
        "---\n",
        "\n"
      ]
    },
    {
      "cell_type": "markdown",
      "metadata": {
        "id": "7GAlE6E9_Sso"
      },
      "source": [
        "# Installation and Setup"
      ]
    },
    {
      "cell_type": "code",
      "execution_count": 14,
      "metadata": {
        "colab": {
          "base_uri": "https://localhost:8080/"
        },
        "id": "TjkThS0X-m7z",
        "outputId": "60d78d42-9ca8-4d83-92c6-1285ae04e20f"
      },
      "outputs": [
        {
          "name": "stderr",
          "output_type": "stream",
          "text": [
            "'wget' is not recognized as an internal or external command,\n",
            "operable program or batch file.\n"
          ]
        }
      ],
      "source": [
        "!wget https://github.com/conjure-cp/conjure/releases/download/v2.4.0/conjure-v2.4.0-linux-with-solvers.zip"
      ]
    },
    {
      "cell_type": "code",
      "execution_count": null,
      "metadata": {
        "id": "oEgi7-Ed_vIo"
      },
      "outputs": [],
      "source": [
        "import zipfile\n",
        "\n",
        "with zipfile.ZipFile('/content/conjure-v2.4.0-linux-with-solvers.zip', 'r') as zip_ref:\n",
        "    zip_ref.extractall('/content/')"
      ]
    },
    {
      "cell_type": "code",
      "execution_count": null,
      "metadata": {
        "colab": {
          "base_uri": "https://localhost:8080/"
        },
        "id": "n6MPjjIXAik5",
        "outputId": "3fea88e7-12d8-4f1f-8987-d87d69c61e45"
      },
      "outputs": [
        {
          "name": "stdout",
          "output_type": "stream",
          "text": [
            "/content/conjure-v2.4.0-linux-with-solvers\n"
          ]
        }
      ],
      "source": [
        "cd /content/conjure-v2.4.0-linux-with-solvers"
      ]
    },
    {
      "cell_type": "code",
      "execution_count": null,
      "metadata": {
        "colab": {
          "base_uri": "https://localhost:8080/"
        },
        "id": "4xB7mKVQAlE4",
        "outputId": "ce2cd80f-726e-4078-e735-9c55e84a446a"
      },
      "outputs": [
        {
          "name": "stdout",
          "output_type": "stream",
          "text": [
            "env: PATH=/content/conjure-v2.4.0-linux-with-solvers:/opt/bin:/usr/local/nvidia/bin:/usr/local/cuda/bin:/usr/local/sbin:/usr/local/bin:/usr/sbin:/usr/bin:/sbin:/bin:/tools/node/bin:/tools/google-cloud-sdk/bin\n",
            "env: conjure=/content/conjure-v2.4.0-linux-with-solvers\n"
          ]
        }
      ],
      "source": [
        "# Add conjure to the PATH environment variable\n",
        "path = %env PATH\n",
        "%env PATH=/content/conjure-v2.4.0-linux-with-solvers:$path\n",
        "\n",
        "# Set the conjure environment variable\n",
        "%env conjure=/content/conjure-v2.4.0-linux-with-solvers"
      ]
    },
    {
      "cell_type": "code",
      "execution_count": null,
      "metadata": {
        "id": "XoJ2LECqDPyf"
      },
      "outputs": [],
      "source": [
        "!chmod 700 conjure\n",
        "!chmod 700 savilerow\n",
        "!chmod 700 minion"
      ]
    },
    {
      "cell_type": "code",
      "execution_count": null,
      "metadata": {
        "colab": {
          "base_uri": "https://localhost:8080/"
        },
        "id": "pVDOQFMDmsui",
        "outputId": "ed42895d-8f15-4a5e-b057-1b85f0950b4b"
      },
      "outputs": [
        {
          "name": "stdout",
          "output_type": "stream",
          "text": [
            "\n"
          ]
        }
      ],
      "source": [
        "!echo $env"
      ]
    },
    {
      "cell_type": "markdown",
      "metadata": {
        "id": "h_bRm911_mWn"
      },
      "source": [
        "# Model"
      ]
    },
    {
      "cell_type": "markdown",
      "metadata": {
        "id": "K2tQcX9RHgAA"
      },
      "source": [
        "Integer Sequence to Essence Relation"
      ]
    },
    {
      "cell_type": "code",
      "execution_count": 10,
      "metadata": {
        "colab": {
          "base_uri": "https://localhost:8080/"
        },
        "id": "jls6vTp9ETt-",
        "outputId": "be4d2f1f-2fc5-4cc0-828a-ecce8b7803ee"
      },
      "outputs": [
        {
          "name": "stdout",
          "output_type": "stream",
          "text": [
            "Writing example0.essence\n"
          ]
        }
      ],
      "source": [
        "%%writefile example0.essence\n",
        "letting n_vertices be 12\n",
        "letting seq be [1,2,3,4]\n",
        "letting sequenceLength be 4\n",
        "letting repetitions be 12\n",
        "letting vertices be domain int(0..n_vertices)\n",
        "letting indicess be domain int(0..sequenceLength*repetitions)\n",
        "\n",
        "find edges : relation of (vertices * vertices)\n",
        "  such that\n",
        "    forAll i : indicess .\n",
        "      exists vertice : vertices . edges(i%n_vertices, ((i%n_vertices)+seq[1+(i%sequenceLength)])%n_vertices)\n"
      ]
    },
    {
      "cell_type": "code",
      "execution_count": 11,
      "metadata": {},
      "outputs": [],
      "source": [
        "def IntSequenceToEssenceGraph(vertices,sequence,repetitions):\n",
        "    graphModel = \"\"\n",
        "    graphModel += f'letting n_vertices be {vertices}\\n'\n",
        "    graphModel += f'letting seq be {sequence}\\n'\n",
        "    graphModel += f'letting sequenceLength be {len(sequence)}\\n'\n",
        "    graphModel += f'letting repetitions be {repetitions}\\n'\n",
        "    graphModel += r'''letting vertices be domain int(0..n_vertices)\n",
        "letting indicess be domain int(0..sequenceLength*repetitions)\n",
        "\n",
        "find edges : relation of (vertices * vertices)\n",
        "  such that\n",
        "    forAll i : indicess .\n",
        "      exists vertice : vertices . edges(i%n_vertices, ((i%n_vertices)+seq[1+(i%sequenceLength)])%n_vertices)'''\n",
        "    graphModelFile = \"LCFSgraph.essence\"\n",
        "    with open(graphModelFile, 'w') as f:\n",
        "        f.write(graphModel)\n",
        "    \n",
        "    "
      ]
    },
    {
      "cell_type": "code",
      "execution_count": 12,
      "metadata": {},
      "outputs": [],
      "source": [
        "IntSequenceToEssenceGraph(3,[2,1],2)"
      ]
    },
    {
      "cell_type": "code",
      "execution_count": null,
      "metadata": {
        "colab": {
          "base_uri": "https://localhost:8080/"
        },
        "id": "O68fvCbOXiwI",
        "outputId": "21028645-de69-4f75-f86d-96b73e954672"
      },
      "outputs": [
        {
          "name": "stdout",
          "output_type": "stream",
          "text": [
            "Overwriting example0.essence\n"
          ]
        }
      ],
      "source": [
        "%%writefile example0.essence\n",
        "letting n_vertices be 6\n",
        "letting seq be [1,2,3,4]\n",
        "letting sequenceLength be 4\n",
        "letting repetitions be 3\n",
        "letting vertices be domain int(0..n_vertices)\n",
        "letting indicess be domain int(0..sequenceLength*repetitions)\n",
        "\n",
        "find val : int(0..10)\n",
        "such that\n",
        "  val = seq[0]"
      ]
    },
    {
      "cell_type": "code",
      "execution_count": null,
      "metadata": {
        "colab": {
          "base_uri": "https://localhost:8080/"
        },
        "id": "eggLGPLliSBq",
        "outputId": "23e68a41-7407-408a-b7c1-30c46435188c"
      },
      "outputs": [
        {
          "name": "stdout",
          "output_type": "stream",
          "text": [
            "Overwriting example0.essence\n"
          ]
        }
      ],
      "source": [
        "%%writefile example0.essence\n",
        "letting n_vertices be 4\n",
        "letting seq be [1,1,1,1]\n",
        "letting sequenceLength be 4\n",
        "letting repetitions be 1\n",
        "letting vertices be domain int(0..n_vertices)\n",
        "letting indicess be domain int(0..sequenceLength*repetitions)\n",
        "\n",
        "find val : int(0..99)\n",
        "such that\n",
        "  val = max(indicess)"
      ]
    },
    {
      "cell_type": "markdown",
      "metadata": {
        "id": "oRJJn0LG_qg_"
      },
      "source": [
        "## Solve"
      ]
    },
    {
      "cell_type": "code",
      "execution_count": 13,
      "metadata": {
        "colab": {
          "base_uri": "https://localhost:8080/"
        },
        "id": "y44B7zd2DgTe",
        "outputId": "22194ab5-44e5-412e-9c94-842ab0c42ab4"
      },
      "outputs": [
        {
          "name": "stderr",
          "output_type": "stream",
          "text": [
            "'conjure' is not recognized as an internal or external command,\n",
            "operable program or batch file.\n"
          ]
        }
      ],
      "source": [
        "!conjure solve LCFSgraph.essence"
      ]
    },
    {
      "cell_type": "code",
      "execution_count": null,
      "metadata": {
        "colab": {
          "base_uri": "https://localhost:8080/"
        },
        "id": "gdaoNV7EsH8X",
        "outputId": "76c0f72c-4409-4692-c2e8-32660c9ac5b9"
      },
      "outputs": [
        {
          "name": "stdout",
          "output_type": "stream",
          "text": [
            "Using cached models.\n",
            "Savile Row: model000001.eprime\n",
            "Running minion for domain filtering.\n",
            "Running solver: minion\n",
            "Copying solution to: example0.solution\n"
          ]
        }
      ],
      "source": [
        "# Use this option to potentially get a different solution after each run\n",
        "!conjure solve example0.essence --solver-options=-randomiseorder"
      ]
    },
    {
      "cell_type": "markdown",
      "metadata": {
        "id": "D5sFWAbo_x1R"
      },
      "source": [
        "## Read solution"
      ]
    },
    {
      "cell_type": "code",
      "execution_count": null,
      "metadata": {
        "colab": {
          "base_uri": "https://localhost:8080/"
        },
        "id": "AsLaNaN6FAKZ",
        "outputId": "cade1e21-0d05-49f2-ac29-7d35da0ca986"
      },
      "outputs": [
        {
          "name": "stdout",
          "output_type": "stream",
          "text": [
            "language Essence 1.3\n",
            "\n",
            "letting val be 6\n",
            "\n"
          ]
        }
      ],
      "source": [
        "with open('/content/conjure-v2.4.0-linux-with-solvers/conjure-output/model000001-solution000001.solution') as f:\n",
        "  print(f.read())"
      ]
    },
    {
      "cell_type": "code",
      "execution_count": null,
      "metadata": {
        "id": "dtuYs7UnZmNP"
      },
      "outputs": [],
      "source": [
        "import networkx as nx\n",
        "import matplotlib.pyplot as plt"
      ]
    },
    {
      "cell_type": "code",
      "execution_count": null,
      "metadata": {
        "colab": {
          "base_uri": "https://localhost:8080/",
          "height": 319
        },
        "id": "cVz_44CXZeU-",
        "outputId": "c96e0890-a786-453e-cab2-3765d0d040f8"
      },
      "outputs": [
        {
          "data": {
            "image/png": "[encoded data removed]",
            "text/plain": [
              "<Figure size 432x288 with 1 Axes>"
            ]
          },
          "metadata": {},
          "output_type": "display_data"
        }
      ],
      "source": [
        "G = nx.Graph()\n",
        "with open('/content/conjure-v2.4.0-linux-with-solvers/conjure-output/model000001-solution000001.solution') as f:\n",
        "\n",
        "\n",
        "  for ln in f:\n",
        "    if ln.startswith(\"$\"):\n",
        "      lineTokens = ln.split(\" \")\n",
        "      skip = False\n",
        "      while  '' in lineTokens:\n",
        "        lineTokens.remove('')\n",
        "      for i, token in enumerate(lineTokens):\n",
        "        if(token == 'Visualisation'):\n",
        "          skip = True\n",
        "        if(token.endswith('\\n')):\n",
        "          lineTokens[i] = token[:-1]\n",
        "      if(not skip):\n",
        "        G.add_edge(int(lineTokens[1]), int(lineTokens[2]))\n",
        "\n",
        "nx.draw(G, nx.spring_layout(G,iterations = 1350), node_size=30)"
      ]
    },
    {
      "cell_type": "markdown",
      "metadata": {
        "id": "26cQ3AGaDJlg"
      },
      "source": [
        "# Parametrised Model"
      ]
    },
    {
      "cell_type": "code",
      "execution_count": null,
      "metadata": {
        "colab": {
          "base_uri": "https://localhost:8080/"
        },
        "id": "LJgGGwUJDhFf",
        "outputId": "eecb352c-a63f-4598-db4b-30b3235b04dc"
      },
      "outputs": [
        {
          "name": "stdout",
          "output_type": "stream",
          "text": [
            "Overwriting LCFSencoder.essence\n"
          ]
        }
      ],
      "source": [
        "%%writefile LCFSencoder.essence\n",
        "given n_vertices : int(1..)\n",
        "letting vertices be domain int(0..n_vertices)\n",
        "given sequenceLength : int(0..)\n",
        "given repetitions : int(0..)\n",
        "letting indicess be domain int(0..sequenceLength*repetitions)\n",
        "given seq : matrix indexed by [int(1..sequenceLength)] of int(0..n_vertices)\n",
        "\n",
        "\n",
        "find edges : relation (size sequenceLength*repetitions) of (vertices * vertices)\n",
        "  such that\n",
        "    forAll i : indicess .\n",
        "      exists vertice : vertices . edges(i%n_vertices, ((i%n_vertices)+seq[1+(i%sequenceLength)])%n_vertices)\n"
      ]
    },
    {
      "cell_type": "code",
      "execution_count": null,
      "metadata": {
        "colab": {
          "base_uri": "https://localhost:8080/"
        },
        "id": "3zRehp5fD9Uw",
        "outputId": "de231968-d40c-4c06-df99-fb1942af7f26"
      },
      "outputs": [
        {
          "name": "stdout",
          "output_type": "stream",
          "text": [
            "Overwriting code1.param\n"
          ]
        }
      ],
      "source": [
        "%%writefile code1.param\n",
        "letting n_vertices be 12\n",
        "letting seq be [1,2,3]\n",
        "letting sequenceLength be 3\n",
        "letting repetitions be 12"
      ]
    },
    {
      "cell_type": "code",
      "execution_count": null,
      "metadata": {
        "colab": {
          "base_uri": "https://localhost:8080/"
        },
        "id": "-eEb_cD3Ze4Y",
        "outputId": "d12d7fad-f3d0-4f00-b4b8-70f145d2ff09"
      },
      "outputs": [
        {
          "name": "stdout",
          "output_type": "stream",
          "text": [
            "Generating models for LCFSencoder.essence\n",
            "Generated models: model000001.eprime\n",
            "Saved under: conjure-output\n",
            "Savile Row: model000001.eprime code1.param\n",
            "Running minion for domain filtering.\n",
            "Running solver: minion\n",
            "Copying solution to: LCFSencoder-code1.solution\n"
          ]
        }
      ],
      "source": [
        "!conjure solve LCFSencoder.essence code1.param\n",
        "#--solver-options=-randomiseorder\n"
      ]
    },
    {
      "cell_type": "code",
      "execution_count": null,
      "metadata": {
        "colab": {
          "base_uri": "https://localhost:8080/",
          "height": 319
        },
        "id": "8QWyuevVZ7iy",
        "outputId": "c6ad9ab0-6e8e-4102-9aae-891811299da2"
      },
      "outputs": [
        {
          "data": {
            "image/png": "[encoded data removed]",
            "text/plain": [
              "<Figure size 432x288 with 1 Axes>"
            ]
          },
          "metadata": {},
          "output_type": "display_data"
        }
      ],
      "source": [
        "G = nx.Graph()\n",
        "with open('/content/conjure-v2.4.0-linux-with-solvers/LCFSencoder-code1.solution') as f:\n",
        "\n",
        "\n",
        "  for ln in f:\n",
        "    if ln.startswith(\"$\"):\n",
        "      lineTokens = ln.split(\" \")\n",
        "      skip = False\n",
        "      while  '' in lineTokens:\n",
        "        lineTokens.remove('')\n",
        "      for i, token in enumerate(lineTokens):\n",
        "        if(token == 'Visualisation'):\n",
        "          skip = True\n",
        "        if(token.endswith('\\n')):\n",
        "          lineTokens[i] = token[:-1]\n",
        "      if(not skip):\n",
        "        G.add_edge(int(lineTokens[1]), int(lineTokens[2]))\n",
        "\n",
        "nx.draw(G, nx.spring_layout(G,iterations = 1350), node_size=30)"
      ]
    },
    {
      "cell_type": "markdown",
      "metadata": {
        "id": "OVn10XB0Fdlw"
      },
      "source": [
        "# Useful Links\n",
        "[Essence Documentation](https://conjure.readthedocs.io/en/latest/essence.html)\n",
        "\n",
        "[Essence Catalog](https://github.com/conjure-cp/EssenceCatalog)\n"
      ]
    }
  ],
  "metadata": {
    "colab": {
      "provenance": []
    },
    "kernelspec": {
      "display_name": "Python 3",
      "name": "python3"
    },
    "language_info": {
      "codemirror_mode": {
        "name": "ipython",
        "version": 3
      },
      "file_extension": ".py",
      "mimetype": "text/x-python",
      "name": "python",
      "nbconvert_exporter": "python",
      "pygments_lexer": "ipython3",
      "version": "3.11.6"
    }
  },
  "nbformat": 4,
  "nbformat_minor": 0
}
